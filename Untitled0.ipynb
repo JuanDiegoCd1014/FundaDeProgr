{
  "nbformat": 4,
  "nbformat_minor": 0,
  "metadata": {
    "colab": {
      "provenance": []
    },
    "kernelspec": {
      "name": "python3",
      "display_name": "Python 3"
    },
    "language_info": {
      "name": "python"
    }
  },
  "cells": [
    {
      "cell_type": "markdown",
      "source": [
        "Elaborar un algoritmo que solicite el número de respuestas correctas, incorrectas y en blanco, correspondientes a postulantes, y muestre su puntaje final considerando, que por cada respuesta correcta tendrá 4 puntos, respuestas incorrectas tendrá -1 y respuestas en blanco tendrá 0.\n"
      ],
      "metadata": {
        "id": "tFd0wGEKJ9rr"
      }
    },
    {
      "cell_type": "code",
      "source": [
        "var_numResCorrec=0\n",
        "var_numResIncorrec=0\n",
        "var_numResBlan=0\n",
        "var_nombPostulan=\"\"\n",
        "var_Correcta=0\n",
        "var_Incorrecta=0\n",
        "var-BLANCO=0\n",
        "var_puntajeFinal=0\n",
        "\n",
        "var_nombPostulan= input(\"escriba nombre del postulante\")\n",
        "var_numResCorrec= float(input(\"¿Cuantas resouestas correctas tuvo el postulante?\"))\n",
        "var_numResIncorrec= float(input(\"¿Cuantas resouestas incorrectas tuvo el postulante?\"))\n",
        "var_numResBlan= float(input(\"¿Cuantas resouestas en blanco tuvo el postulante?\"))\n",
        "\n",
        "var_Correcta = (var_numResCorrec*4) \n",
        "var_Incorrecta = (var_numResIncorrec*(-1))\n",
        "var_BLANCO = (var_numResBlan*0)\n",
        "\n",
        "var_puntajeFinal=(var_Correcta+var_Incorrecta)\n",
        "print(\"El puntaje del postulante es\", var_nombPostulan + \"es\", str(\"var_puntajeFinal\"))\n",
        "\n"
      ],
      "metadata": {
        "colab": {
          "base_uri": "https://localhost:8080/",
          "height": 235
        },
        "id": "oLxcK3_5KDJt",
        "outputId": "05da3a21-e946-4bc4-c4c5-33634f8963d5"
      },
      "execution_count": null,
      "outputs": [
        {
          "output_type": "error",
          "ename": "NameError",
          "evalue": "ignored",
          "traceback": [
            "\u001b[0;31m---------------------------------------------------------------------------\u001b[0m",
            "\u001b[0;31mNameError\u001b[0m                                 Traceback (most recent call last)",
            "\u001b[0;32m<ipython-input-1-4e5890a0853f>\u001b[0m in \u001b[0;36m<module>\u001b[0;34m\u001b[0m\n\u001b[0;32m----> 1\u001b[0;31m \u001b[0mvar_numResCorrec\u001b[0m\u001b[0;34m\u001b[0m\u001b[0;34m\u001b[0m\u001b[0m\n\u001b[0m\u001b[1;32m      2\u001b[0m \u001b[0mvar_numResIncorrec\u001b[0m\u001b[0;34m\u001b[0m\u001b[0;34m\u001b[0m\u001b[0m\n\u001b[1;32m      3\u001b[0m \u001b[0mvar_numResBlan\u001b[0m\u001b[0;34m\u001b[0m\u001b[0;34m\u001b[0m\u001b[0m\n\u001b[1;32m      4\u001b[0m \u001b[0mvar_nombPostulan\u001b[0m\u001b[0;34m\u001b[0m\u001b[0;34m\u001b[0m\u001b[0m\n\u001b[1;32m      5\u001b[0m \u001b[0mvar_Correcta\u001b[0m\u001b[0;34m\u001b[0m\u001b[0;34m\u001b[0m\u001b[0m\n",
            "\u001b[0;31mNameError\u001b[0m: name 'var_numResCorrec' is not defined"
          ]
        }
      ]
    }
  ]
}